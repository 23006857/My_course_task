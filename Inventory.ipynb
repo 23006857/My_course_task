{
  "nbformat": 4,
  "nbformat_minor": 0,
  "metadata": {
    "colab": {
      "provenance": [],
      "authorship_tag": "ABX9TyMVqHRsRa60WZkM2bjGFvMV",
      "include_colab_link": true
    },
    "kernelspec": {
      "name": "python3",
      "display_name": "Python 3"
    },
    "language_info": {
      "name": "python"
    }
  },
  "cells": [
    {
      "cell_type": "markdown",
      "metadata": {
        "id": "view-in-github",
        "colab_type": "text"
      },
      "source": [
        "<a href=\"https://colab.research.google.com/github/23006857/My_course_task/blob/main/Inventory.ipynb\" target=\"_parent\"><img src=\"https://colab.research.google.com/assets/colab-badge.svg\" alt=\"Open In Colab\"/></a>"
      ]
    },
    {
      "cell_type": "code",
      "execution_count": null,
      "metadata": {
        "colab": {
          "base_uri": "https://localhost:8080/"
        },
        "id": "Q3c_GnpmHRU9",
        "outputId": "f50a012b-e654-48de-870a-e5cd1db4c251"
      },
      "outputs": [
        {
          "output_type": "stream",
          "name": "stdout",
          "text": [
            "Student name is: Bola Ahmed\n",
            "student age is: 80\n",
            "student grade are: {'problem solving': 20, 'programming': 13, 'data': 25}\n",
            "student grade in data is: 25\n"
          ]
        }
      ],
      "source": [
        "#Example 1\n",
        "#dictionary representing a student's information\n",
        "student_info = {\n",
        "    \"name\": \"Bola Ahmed\",\n",
        "    \"age\": 80,\n",
        "    \"course\": \"dpdd\",\n",
        "    \"grades\":{\"problem solving\":20, \"programming\":13, \"data\": 25}\n",
        "\n",
        "}\n",
        "#Accessing these dictionary values\n",
        "print(\"Student name is:\",student_info[\"name\"])\n",
        "print(\"student age is:\", student_info[\"age\"])\n",
        "print(\"student grade are:\", student_info[\"grades\"])\n",
        "print(\"student grade in data is:\", student_info[\"grades\"][\"data\"])"
      ]
    },
    {
      "cell_type": "code",
      "source": [],
      "metadata": {
        "id": "FzT4CVxJtEo_"
      },
      "execution_count": null,
      "outputs": []
    },
    {
      "cell_type": "code",
      "source": [
        "#Example 2\n",
        "#Product Inventory\n",
        "inventory= {\n",
        "    \"laptop\": {\"price\":200, \"quantity\":10},\n",
        "    \"headphones\": {\"price\":20, \"quantity\":20},\n",
        "    \"mouse\": {\"price\":2, \"quantity\":500}\n",
        "}\n",
        "#access this information\n",
        "print(\"The price of the laptop is:\", inventory[\"laptop\"][\"price\"], \"and the quantity of laptop is:\", inventory[\"laptop\"][\"quantity\"])\n",
        "print(\"The price of the laptop is:\", inventory[\"laptop\"][\"price\"])\n",
        "print(\"The quantity of headphones is:\", inventory[\"headphones\"][\"quantity\"])\n",
        "inventory[\"headphones\"][\"quantity\"]=90\n",
        "print(\"The quantity of headphones is:\", inventory[\"headphones\"][\"quantity\"])\n"
      ],
      "metadata": {
        "colab": {
          "base_uri": "https://localhost:8080/"
        },
        "id": "ctlYMbhwPB_2",
        "outputId": "bc365ac3-48e1-4445-a70a-949d78f14b4c"
      },
      "execution_count": null,
      "outputs": [
        {
          "output_type": "stream",
          "name": "stdout",
          "text": [
            "The price of the laptop is: 200 and the quantity of laptop is: 10\n",
            "The price of the laptop is: 200\n",
            "The quantity of headphones is: 20\n",
            "The quantity of headphones is: 90\n"
          ]
        }
      ]
    },
    {
      "cell_type": "code",
      "source": [
        "#create a dictionary of countries and capitals\n",
        "country={\n",
        "    \"Nigeria\": {\"capital\": \"Abuja\"},\n",
        "    \"India\": {\"capital\": \"newdelhi\"},\n",
        "    \"Ghana\": {\"capital\": \"accra\"},\n",
        "    \"Brazil\": {\"capital\": \"brasilia\"},\n",
        "    \"Egypt\": {\"capital\": \"cario\"}\n",
        "\n",
        "}\n",
        "print(\"countries and their capitals are:\", country)\n",
        "country[\"USA\"]={\"capital\": \"washington\"}\n",
        "print(\"countries and their capitals are:\", country)\n",
        "country.pop(\"Nigeria\")\n",
        "print(country)\n",
        "print(\"The capital of Ghana is:\", country[\"Ghana\"][\"capital\"])"
      ],
      "metadata": {
        "colab": {
          "base_uri": "https://localhost:8080/"
        },
        "id": "lblU1BaQV7vh",
        "outputId": "b98931d1-f6b2-438c-b48a-8e70cddbf35c"
      },
      "execution_count": null,
      "outputs": [
        {
          "output_type": "stream",
          "name": "stdout",
          "text": [
            "countries and their capitals are: {'Nigeria': {'capital': 'Abuja'}, 'India': {'capital': 'newdelhi'}, 'Ghana': {'capital': 'accra'}, 'Brazil': {'capital': 'brasilia'}, 'Egypt': {'capital': 'cario'}}\n",
            "countries and their capitals are: {'Nigeria': {'capital': 'Abuja'}, 'India': {'capital': 'newdelhi'}, 'Ghana': {'capital': 'accra'}, 'Brazil': {'capital': 'brasilia'}, 'Egypt': {'capital': 'cario'}, 'USA': {'capital': 'washington'}}\n",
            "{'India': {'capital': 'newdelhi'}, 'Ghana': {'capital': 'accra'}, 'Brazil': {'capital': 'brasilia'}, 'Egypt': {'capital': 'cario'}, 'USA': {'capital': 'washington'}}\n",
            "The capital of Ghana is: accra\n"
          ]
        }
      ]
    },
    {
      "cell_type": "code",
      "source": [
        "#create a dictionary Task2\n",
        "company = {\n",
        "    \"Buhari\": {\"job_title\": \"Poilitican\"},\n",
        "    \"BolaAhmed\": {\"job_title\": \"Competitor\"},\n",
        "    \"Emefele\": {\"job_title\": \"Finance\"}\n",
        "}\n",
        "print(company)\n",
        "company[\"BolaAhmed\"][\"job_title\"]=\"solicitor\"\n",
        "print(company)\n",
        "print(\"Buhari is a:\", company[\"Buhari\"][\"job_title\"])\n",
        "company.pop(\"Emefele\")\n",
        "print(company)"
      ],
      "metadata": {
        "colab": {
          "base_uri": "https://localhost:8080/"
        },
        "id": "_VnpmKkhk3IB",
        "outputId": "e235db2a-e72e-41b5-cadc-c4a88918f50d"
      },
      "execution_count": null,
      "outputs": [
        {
          "output_type": "stream",
          "name": "stdout",
          "text": [
            "{'Buhari': {'job_title': 'Poilitican'}, 'BolaAhmed': {'job_title': 'Competitor'}, 'Emefele': {'job_title': 'Finance'}}\n",
            "{'Buhari': {'job_title': 'Poilitican'}, 'BolaAhmed': {'job_title': 'solicitor'}, 'Emefele': {'job_title': 'Finance'}}\n",
            "Buhari is a: Poilitican\n",
            "{'Buhari': {'job_title': 'Poilitican'}, 'BolaAhmed': {'job_title': 'solicitor'}}\n"
          ]
        }
      ]
    },
    {
      "cell_type": "code",
      "source": [
        "# student grades dictionary with calculation\n",
        "student_info={\n",
        "    \"david\": {\"math\":2, \"science\":3, \"english\":4},\n",
        "    \"seyi\": {\"math\":3, \"science\":5, \"english\":6},\n",
        "    \"sulaimon\": {\"math\":1, \"science\":4, \"english\":3}\n",
        "\n",
        "}\n",
        "sum_grades=(student_info[\"david\"][\"math\"]+student_info[\"david\"][\"science\"]+student_info[\"david\"][\"english\"])\n",
        "david_avg=sum_grades/3\n",
        "print(david_avg)\n",
        "sum_grades=(student_info[\"seyi\"][\"math\"]+student_info[\"seyi\"][\"science\"]+student_info[\"seyi\"][\"english\"])\n",
        "seyi_avg=sum_grades/3\n",
        "print(seyi_avg)\n",
        "sum_grades=(student_info[\"sulaimon\"][\"math\"]+student_info[\"sulaimon\"][\"science\"]+student_info[\"sulaimon\"][\"english\"])\n",
        "sulaimon_avg=sum_grades/3\n",
        "print(sulaimon_avg)\n",
        "print(\"The highest range is:\", seyi_avg)\n",
        "average_score=[\"david_avg\", \"sulaimon_avg\", \"seyi_avg\"]\n",
        "print(\"The highest average grade is\", max(average_score))\n"
      ],
      "metadata": {
        "colab": {
          "base_uri": "https://localhost:8080/"
        },
        "id": "tyjDZR1CosfS",
        "outputId": "aa779179-eaac-452b-d685-c3d128a4a7f4"
      },
      "execution_count": null,
      "outputs": [
        {
          "output_type": "stream",
          "name": "stdout",
          "text": [
            "3.0\n",
            "4.666666666666667\n",
            "2.6666666666666665\n",
            "The highest range is: 4.666666666666667\n",
            "The highest average grade is sulaimon_avg\n"
          ]
        }
      ]
    },
    {
      "cell_type": "code",
      "source": [
        "#Creating a list to accomodate the student name and info\n",
        "student_names = []\n",
        "student_averages = []\n",
        "\n",
        "# Loop to input 5 students' names and their scores for 4 tests\n",
        "for i in range(5):\n",
        "    name = input(f\"Enter the name of student {i+1}: \")\n",
        "    scores = []\n",
        "\n",
        "    # Loop to input 4 test scores for each student\n",
        "    for j in range(4):\n",
        "        while True:\n",
        "            try:\n",
        "                score = float(input(f\"Enter score {j+1} for {name}: \"))\n",
        "                if 0 <= score <= 100:\n",
        "                    scores.append(score)\n",
        "                    break\n",
        "                else:\n",
        "                    print(\"Invalid input. Score must be between 0 and 100.\")\n",
        "            except ValueError:\n",
        "                print(\"Invalid input. Please enter a number.\")\n",
        "\n",
        "    # Calculate the average score for the student\n",
        "    average_score = sum(scores) / len(scores)\n",
        "    student_names.append(name)\n",
        "    student_averages.append(average_score)\n",
        "\n",
        "# Find the student with the highest and lowest average score\n",
        "highest_score = max(student_averages)\n",
        "lowest_score = min(student_averages)\n",
        "highest_scorer = student_names[student_averages.index(highest_score)]\n",
        "lowest_scorer = student_names[student_averages.index(lowest_score)]\n",
        "\n",
        "# Print the results\n",
        "print(\"\\nResults:\")\n",
        "for i in range(5):\n",
        "    print(f\"{student_names[i]}: Average Score = {student_averages[i]:.2f}\")\n",
        "\n",
        "print(f\"\\nHighest Scorer: {highest_scorer} with an average score of {highest_score:.2f}\")\n",
        "print(f\"Lowest Scorer: {lowest_scorer} with an average score of {lowest_score:.2f}\")"
      ],
      "metadata": {
        "id": "X5MH_ByOtGxm"
      },
      "execution_count": null,
      "outputs": []
    }
  ]
}